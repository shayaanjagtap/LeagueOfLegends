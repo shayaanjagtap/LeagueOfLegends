{
 "cells": [
  {
   "cell_type": "code",
   "execution_count": 1,
   "metadata": {
    "collapsed": true
   },
   "outputs": [],
   "source": [
    "import pandas as pd\n",
    "from pprint import *"
   ]
  },
  {
   "cell_type": "code",
   "execution_count": 2,
   "metadata": {
    "collapsed": true
   },
   "outputs": [],
   "source": [
    "#Load data into dataframes\n",
    "dv = pd.read_csv('leagueoflegends/deathValues.csv')\n",
    "#v to add death values in a hierchial scaling \n",
    "gv = pd.read_csv('leagueoflegends/goldValues.csv')\n",
    "#converts gold to double value to parse\n",
    "ov = pd.read_csv('leagueoflegends/objValues.csv')\n",
    "bv = pd.read_csv('leagueoflegends/banValues.csv')\n",
    "#checks bans to see combinations\n",
    "lol = pd.read_csv('leagueoflegends/_LeagueofLegends.csv')\n",
    "csvs = [dv, gv, ov, bv, lol]"
   ]
  },
  {
   "cell_type": "code",
   "execution_count": 3,
   "metadata": {
    "scrolled": true
   },
   "outputs": [
    {
     "ename": "SyntaxError",
     "evalue": "Missing parentheses in call to 'print' (<ipython-input-3-f4232dd17f95>, line 7)",
     "traceback": [
      "\u001b[1;36m  File \u001b[1;32m\"<ipython-input-3-f4232dd17f95>\"\u001b[1;36m, line \u001b[1;32m7\u001b[0m\n\u001b[1;33m    print i\u001b[0m\n\u001b[1;37m          ^\u001b[0m\n\u001b[1;31mSyntaxError\u001b[0m\u001b[1;31m:\u001b[0m Missing parentheses in call to 'print'\n"
     ],
     "output_type": "error"
    }
   ],
   "source": [
    "#for the lol dataframe some lists are in the form of a string, so this is a function to convert a col to a list\n",
    "def str2list(df, col):\n",
    "    for i in range(len(df)):\n",
    "        try:\n",
    "            df[col][i] = map(float, df[col][i][1:-2].split(\",\"))\n",
    "        except:\n",
    "            print i\n",
    "    return df"
   ]
  },
  {
   "cell_type": "code",
   "execution_count": null,
   "metadata": {},
   "outputs": [],
   "source": [
    "list_as_str = ['golddiff', 'goldblue', 'bTowers', 'bInhibs', 'bDragons', 'bBarons', 'bHeralds', 'goldblueTop', 'goldblueJungle', ''\n",
    "              'goldred', 'rTowers', 'rInhibs', 'rDragons', 'rBarons', 'rHeralds']\n",
    "\n",
    "for col in list_as_str:\n",
    "    str2list(lol, col)"
   ]
  },
  {
   "cell_type": "code",
   "execution_count": 4,
   "metadata": {},
   "outputs": [
    {
     "ename": "SyntaxError",
     "evalue": "Missing parentheses in call to 'print' (<ipython-input-4-2827f8bb8f62>, line 9)",
     "traceback": [
      "\u001b[1;36m  File \u001b[1;32m\"<ipython-input-4-2827f8bb8f62>\"\u001b[1;36m, line \u001b[1;32m9\u001b[0m\n\u001b[1;33m    print i\u001b[0m\n\u001b[1;37m          ^\u001b[0m\n\u001b[1;31mSyntaxError\u001b[0m\u001b[1;31m:\u001b[0m Missing parentheses in call to 'print'\n"
     ],
     "output_type": "error"
    }
   ],
   "source": [
    "#because the Kills columns are a list of list in string form we need a seperate function for those\n",
    "kills = ['bKills', 'rKills']\n",
    "\n",
    "def str2listoflist(df, col):\n",
    "    for i in range(len(df)):\n",
    "        try:\n",
    "            df[col][i] = df[col][i][1:-2].split(\",\")[1:-2].split(\",\")\n",
    "        except:\n",
    "            print i\n",
    "    return df\n",
    "\n",
    "for col in kills:\n",
    "    str2listoflist(lol, col)"
   ]
  },
  {
   "cell_type": "code",
   "execution_count": 5,
   "metadata": {
    "collapsed": true
   },
   "outputs": [],
   "source": [
    "d = dv[dv['MatchHistory'] == lol['MatchHistory'][0]]\n",
    "#d[map(float, d['Time']) < 20]\n",
    "e = [float(i) for i in d[d['TeamColor'] == 'Red']['Time']]"
   ]
  },
  {
   "cell_type": "code",
   "execution_count": 6,
   "metadata": {},
   "outputs": [
    {
     "ename": "TypeError",
     "evalue": "object of type 'filter' has no len()",
     "traceback": [
      "\u001b[1;31m---------------------------------------------------------------------------\u001b[0m",
      "\u001b[1;31mTypeError\u001b[0m                                 Traceback (most recent call last)",
      "\u001b[1;32m<ipython-input-6-680c097f1efb>\u001b[0m in \u001b[0;36m<module>\u001b[1;34m()\u001b[0m\n\u001b[1;32m----> 1\u001b[1;33m \u001b[1;33m[\u001b[0m\u001b[0mlen\u001b[0m\u001b[1;33m(\u001b[0m\u001b[0mfilter\u001b[0m\u001b[1;33m(\u001b[0m\u001b[1;32mlambda\u001b[0m \u001b[0mx\u001b[0m\u001b[1;33m:\u001b[0m \u001b[0mi\u001b[0m \u001b[1;33m<\u001b[0m \u001b[0mx\u001b[0m \u001b[1;33m<\u001b[0m \u001b[0mi\u001b[0m \u001b[1;33m+\u001b[0m \u001b[1;36m5\u001b[0m\u001b[1;33m,\u001b[0m \u001b[0me\u001b[0m\u001b[1;33m)\u001b[0m\u001b[1;33m)\u001b[0m \u001b[1;32mfor\u001b[0m \u001b[0mi\u001b[0m \u001b[1;32min\u001b[0m \u001b[0mrange\u001b[0m\u001b[1;33m(\u001b[0m\u001b[1;36m0\u001b[0m\u001b[1;33m,\u001b[0m\u001b[1;36m85\u001b[0m\u001b[1;33m,\u001b[0m\u001b[1;36m5\u001b[0m\u001b[1;33m)\u001b[0m\u001b[1;33m]\u001b[0m\u001b[1;33m\u001b[0m\u001b[0m\n\u001b[0m",
      "\u001b[1;32m<ipython-input-6-680c097f1efb>\u001b[0m in \u001b[0;36m<listcomp>\u001b[1;34m(.0)\u001b[0m\n\u001b[1;32m----> 1\u001b[1;33m \u001b[1;33m[\u001b[0m\u001b[0mlen\u001b[0m\u001b[1;33m(\u001b[0m\u001b[0mfilter\u001b[0m\u001b[1;33m(\u001b[0m\u001b[1;32mlambda\u001b[0m \u001b[0mx\u001b[0m\u001b[1;33m:\u001b[0m \u001b[0mi\u001b[0m \u001b[1;33m<\u001b[0m \u001b[0mx\u001b[0m \u001b[1;33m<\u001b[0m \u001b[0mi\u001b[0m \u001b[1;33m+\u001b[0m \u001b[1;36m5\u001b[0m\u001b[1;33m,\u001b[0m \u001b[0me\u001b[0m\u001b[1;33m)\u001b[0m\u001b[1;33m)\u001b[0m \u001b[1;32mfor\u001b[0m \u001b[0mi\u001b[0m \u001b[1;32min\u001b[0m \u001b[0mrange\u001b[0m\u001b[1;33m(\u001b[0m\u001b[1;36m0\u001b[0m\u001b[1;33m,\u001b[0m\u001b[1;36m85\u001b[0m\u001b[1;33m,\u001b[0m\u001b[1;36m5\u001b[0m\u001b[1;33m)\u001b[0m\u001b[1;33m]\u001b[0m\u001b[1;33m\u001b[0m\u001b[0m\n\u001b[0m",
      "\u001b[1;31mTypeError\u001b[0m: object of type 'filter' has no len()"
     ],
     "output_type": "error"
    }
   ],
   "source": [
    "[len(filter(lambda x: i < x < i + 5, e)) for i in range(0,85,5)]"
   ]
  },
  {
   "cell_type": "code",
   "execution_count": 7,
   "metadata": {
    "collapsed": true
   },
   "outputs": [],
   "source": [
    "def count_occ_in_interv(df, index):\n",
    "    d = df[df['MatchHistory'] == lol['MatchHistory'][index]]\n",
    "    e = [float(i) for i in d[d['TeamColor'] == 'Red']['Time']]\n",
    "    f = [float(i) for i in d[d['TeamColor'] == 'Blue']['Time']]\n",
    "    return ([len(filter(lambda x: i < x < i + 5, e)) for i in range(0,85,5)],\n",
    "    [len(filter(lambda x: i < x < i + 5, f)) for i in range(0,85,5)])"
   ]
  },
  {
   "cell_type": "code",
   "execution_count": 8,
   "metadata": {
    "collapsed": true,
    "scrolled": true
   },
   "outputs": [],
   "source": [
    "import numpy as np\n",
    "\n",
    "roles = ['TopChamp','SupportChamp','MiddleChamp','ADCChamp','JungleChamp']; #Main roles in the current meta, may need to update\n",
    "\n",
    "champs = pd.read_csv('champs.csv');\n",
    "champs['wins'] = np.zeros(len(champs['name']));\n",
    "champs['games'] = np.zeros(len(champs['name']));\n",
    "\n",
    "games = {'name':champs['name']};\n",
    "games = pd.DataFrame(data = games)\n",
    "for name in games['name']:\n",
    "    games[name] = np.zeros(len(champs['name']));\n",
    "matchups = {'name':champs['name']};\n",
    "matchups = pd.DataFrame(data = matchups)\n",
    "for name in matchups['name']:\n",
    "    matchups[name] = np.zeros(len(champs['name']));\n"
   ]
  },
  {
   "cell_type": "code",
   "execution_count": 9,
   "metadata": {
    "collapsed": true
   },
   "outputs": [],
   "source": [
    "#get number of wins and games played per champion, and number of wins and games played for each champion matchup\n",
    "\n",
    "for i in range(len(lol['bResult'])):\n",
    "    for role in roles: #scraper\n",
    "        champs.loc[champs['name']==lol['blue' + role][i],'games']+=1;\n",
    "        champs.loc[champs['name']==lol['red' + role][i],'games']+=1;\n",
    "        games.loc[games['name']==lol['blue' + role][i],lol['red' + role][i]]+=1;\n",
    "        games.loc[games['name']==lol['red' + role][i],lol['blue' + role][i]]+=1;\n",
    "        if lol['bResult'][i] == 1: \n",
    "            champs.loc[champs['name']==lol['blue' + role][i],'wins']+=1;\n",
    "            matchups.loc[matchups['name']==lol['blue' + role][i],lol['red' + role][i]]+=1;\n",
    "        else:\n",
    "            champs.loc[champs['name']==lol['red' + role][i],'wins']+=1;\n",
    "            matchups.loc[matchups['name']==lol['red' + role][i],lol['blue' + role][i]]+=1;"
   ]
  },
  {
   "cell_type": "code",
   "execution_count": 10,
   "metadata": {},
   "outputs": [
    {
     "name": "stdout",
     "output_type": "stream",
     "text": [
      "             name   id   wins   games        wr\n",
      "0             Jax   24   37.0    69.0  0.536232\n",
      "1            Sona   37    9.0    23.0  0.391304\n",
      "2        Tristana   18   94.0   221.0  0.425339\n",
      "3           Varus  110  277.0   563.0  0.492007\n",
      "4           Fiora  114  116.0   229.0  0.506550\n",
      "5          Singed   27    9.0    15.0  0.600000\n",
      "6      Tahm Kench  223    0.0     1.0  0.000000\n",
      "7         Leblanc    7  236.0   467.0  0.505353\n",
      "8          Thresh  412  457.0   868.0  0.526498\n",
      "9           Karma   43  404.0   879.0  0.459613\n",
      "10           Jhin  202  390.0   754.0  0.517241\n",
      "11         Rumble   68  346.0   663.0  0.521870\n",
      "12           Udyr   77    6.0    14.0  0.428571\n",
      "13        Lee Sin   64    0.0     1.0  0.000000\n",
      "14         Yorick   83    2.0     5.0  0.400000\n",
      "15           Ornn  516    0.0     1.0  0.000000\n",
      "16           Kayn  141    0.0     1.0  0.000000\n",
      "17       Kassadin   38  117.0   214.0  0.546729\n",
      "18          Sivir   15  626.0  1171.0  0.534586\n",
      "19    MissFortune   21   62.0   121.0  0.512397\n",
      "20         Draven  119   15.0    30.0  0.500000\n",
      "21          Yasuo  157   35.0    71.0  0.492958\n",
      "22          Kayle   10    8.0    24.0  0.333333\n",
      "23          Shaco   35    1.0     5.0  0.200000\n",
      "24       Renekton   58   58.0   139.0  0.417266\n",
      "25        Hecarim  120  133.0   296.0  0.449324\n",
      "26           Fizz  105  125.0   231.0  0.541126\n",
      "27         KogMaw   96  122.0   264.0  0.462121\n",
      "28         Maokai   57  574.0  1081.0  0.530990\n",
      "29      Lissandra  127  211.0   417.0  0.505995\n",
      "..            ...  ...    ...     ...       ...\n",
      "115         Diana  131   25.0    49.0  0.510204\n",
      "116  Aurelion Sol  136    0.0     1.0  0.000000\n",
      "117          Zyra  143  175.0   354.0  0.494350\n",
      "118        Viktor  112  341.0   771.0  0.442283\n",
      "119    Cassiopeia   69  182.0   378.0  0.481481\n",
      "120         Nasus   75    0.0     2.0  0.000000\n",
      "121        Twitch   29   48.0    86.0  0.558140\n",
      "122       DrMundo   36   13.0    57.0  0.228070\n",
      "123       Orianna   61  204.0   411.0  0.496350\n",
      "124       Evelynn   28   60.0   148.0  0.405405\n",
      "125        RekSai  421  654.0  1346.0  0.485884\n",
      "126           Lux   99   18.0    45.0  0.400000\n",
      "127          Sion   14   36.0    70.0  0.514286\n",
      "128       Camille  164   62.0   105.0  0.590476\n",
      "129      MasterYi   11    2.0     3.0  0.666667\n",
      "130          Ryze   13  275.0   526.0  0.522814\n",
      "131      Malphite   54   37.0    77.0  0.480519\n",
      "132        Anivia   34   41.0    82.0  0.500000\n",
      "133          Shen   98  307.0   609.0  0.504105\n",
      "134      JarvanIV   59  139.0   273.0  0.509158\n",
      "135      Malzahar   90  206.0   352.0  0.585227\n",
      "136           Zac  154   19.0    31.0  0.612903\n",
      "137        Gragas   79  594.0  1145.0  0.518777\n",
      "138     TahmKench  890  182.0   337.0  0.540059\n",
      "139   AurelionSol  891   33.0    51.0  0.647059\n",
      "140        LeeSin  892  360.0   738.0  0.487805\n",
      "141        Khazix  893  225.0   436.0  0.516055\n",
      "142  FiddleSticks  894    1.0     2.0  0.500000\n",
      "143       XinZhao  895    1.0     2.0  0.500000\n",
      "144    MonkeyKing  896    1.0     1.0  1.000000\n",
      "\n",
      "[145 rows x 5 columns]\n"
     ]
    },
    {
     "name": "stderr",
     "output_type": "stream",
     "text": [
      "C:\\Users\\Alec\\Anaconda3\\lib\\site-packages\\ipykernel_launcher.py:5: SettingWithCopyWarning: \n",
      "A value is trying to be set on a copy of a slice from a DataFrame\n",
      "\n",
      "See the caveats in the documentation: http://pandas.pydata.org/pandas-docs/stable/indexing.html#indexing-view-versus-copy\n",
      "  \"\"\"\n"
     ]
    }
   ],
   "source": [
    "#convert numbers to a percentage\n",
    "c2 = champs.copy();\n",
    "\n",
    "g = c2['games'];\n",
    "g[g==0] = 1;\n",
    "c2['games'] = g;\n",
    "c2['wr'] = c2['wins'] / c2['games'];\n",
    "print(c2)\n",
    "\n",
    "g2 = games.drop('name',axis=1);\n",
    "g2[g2 == 0] = 1;\n",
    "\n",
    "mu = matchups.copy();\n",
    "for champ in mu:\n",
    "    if champ != 'name':\n",
    "        mu[champ] = mu[champ] / g2[champ] - 0.5;\n",
    "mu = mu.drop('name',axis=1);\n",
    "mu[games == 0] = 0;\n",
    "mu['name'] = c2['name'];\n"
   ]
  },
  {
   "cell_type": "code",
   "execution_count": 11,
   "metadata": {
    "collapsed": true
   },
   "outputs": [],
   "source": [
    "big = pd.read_csv('the biggest baddest csv.csv');"
   ]
  },
  {
   "cell_type": "code",
   "execution_count": 12,
   "metadata": {
    "collapsed": true
   },
   "outputs": [],
   "source": [
    "clean = big.drop(['MatchHistory','League','Season', 'Year', 'blueTeamTag', 'rResult', 'redTeamTag'], axis = 1);"
   ]
  },
  {
   "cell_type": "code",
   "execution_count": 13,
   "metadata": {
    "collapsed": true
   },
   "outputs": [],
   "source": [
    "clean = clean.drop(['golddiff','goldblue','bKills','bTowers', 'bInhibs', 'bDragons', 'bBarons', 'bHeralds', 'goldred', 'rKills','rTowers','rInhibs','rDragons','rBarons','rHeralds'], axis = 1);"
   ]
  },
  {
   "cell_type": "code",
   "execution_count": 14,
   "metadata": {
    "collapsed": true
   },
   "outputs": [],
   "source": [
    "clean = clean.drop(['blueTop','blueJungle','blueMiddle','blueADC','blueSupport','redTop','redJungle','redMiddle','redADC','redSupport'], axis = 1);"
   ]
  },
  {
   "cell_type": "code",
   "execution_count": 15,
   "metadata": {
    "collapsed": true
   },
   "outputs": [],
   "source": [
    "clean = clean.drop('Unnamed: 0', axis = 1)"
   ]
  },
  {
   "cell_type": "code",
   "execution_count": 16,
   "metadata": {
    "collapsed": true
   },
   "outputs": [],
   "source": [
    "from sklearn.linear_model import LogisticRegression\n",
    "from sklearn.model_selection import train_test_split\n",
    "\n",
    "winner = clean['bResult'];\n",
    "clean = clean.drop('bResult', axis = 1);\n",
    "\n",
    "X_train, X_test, y_train, y_test = train_test_split(clean, winner, test_size = 0.33);"
   ]
  },
  {
   "cell_type": "code",
   "execution_count": 17,
   "metadata": {},
   "outputs": [
    {
     "name": "stdout",
     "output_type": "stream",
     "text": [
      "0.0207171314741\n"
     ]
    }
   ],
   "source": [
    "import numpy as np\n",
    "\n",
    "LR = LogisticRegression();\n",
    "\n",
    "LR.fit(X_train,y_train);\n",
    "\n",
    "y_predict = LR.predict(X_test)\n",
    "\n",
    "print((len(y_test) - np.sum(y_test==y_predict)) / len(y_test))"
   ]
  },
  {
   "cell_type": "code",
   "execution_count": 18,
   "metadata": {
    "collapsed": true
   },
   "outputs": [],
   "source": [
    "pregame = clean.loc[:, :'redSupportChamp'];"
   ]
  },
  {
   "cell_type": "code",
   "execution_count": 19,
   "metadata": {
    "collapsed": true
   },
   "outputs": [],
   "source": [
    "X_train2, X_test2, y_train2, y_test2 = train_test_split(pregame, winner, test_size = 0.33);"
   ]
  },
  {
   "cell_type": "code",
   "execution_count": 20,
   "metadata": {},
   "outputs": [
    {
     "name": "stdout",
     "output_type": "stream",
     "text": [
      "0.412749003984\n"
     ]
    }
   ],
   "source": [
    "LR2 = LogisticRegression();\n",
    "\n",
    "LR2.fit(X_train2,y_train2);\n",
    "\n",
    "y_predict2 = LR2.predict(X_test2)\n",
    "\n",
    "print((len(y_test2) - np.sum(y_test2==y_predict2)) / len(y_test2))"
   ]
  },
  {
   "cell_type": "code",
   "execution_count": 21,
   "metadata": {
    "collapsed": true
   },
   "outputs": [],
   "source": [
    "clean_mu = clean.copy();"
   ]
  },
  {
   "cell_type": "code",
   "execution_count": 22,
   "metadata": {},
   "outputs": [],
   "source": [
    "matchup_names = ['topMu', 'supMu', 'midMu', 'ADCMu','jungMu'];\n",
    "\n",
    "for i in range(len(matchup_names)):\n",
    "    clean_mu[matchup_names[i]] = np.zeros(len(clean_mu['redADCChamp']))"
   ]
  },
  {
   "cell_type": "code",
   "execution_count": 23,
   "metadata": {},
   "outputs": [
    {
     "name": "stdout",
     "output_type": "stream",
     "text": [
      "[['Jax' 0.0 0.0 ..., 0.0 0.0 0.0]\n",
      " ['Sona' 0.0 0.0 ..., 0.0 0.0 0.0]\n",
      " ['Tristana' 0.0 0.0 ..., 0.0 0.0 0.0]\n",
      " ..., \n",
      " ['FiddleSticks' 0.0 0.0 ..., 0.0 0.0 0.0]\n",
      " ['XinZhao' 0.0 0.0 ..., 0.0 0.0 0.0]\n",
      " ['MonkeyKing' 0.0 0.0 ..., 0.0 0.0 0.0]]\n"
     ]
    }
   ],
   "source": [
    "mu_matrix = matchups.as_matrix();\n",
    "\n",
    "print(mu_matrix)"
   ]
  },
  {
   "cell_type": "code",
   "execution_count": 25,
   "metadata": {},
   "outputs": [
    {
     "name": "stdout",
     "output_type": "stream",
     "text": [
      "['Jax' 'Sona' 'Tristana' 'Varus' 'Fiora' 'Singed' 'Tahm Kench' 'Leblanc'\n",
      " 'Thresh' 'Karma' 'Jhin' 'Rumble' 'Udyr' 'Lee Sin' 'Yorick' 'Ornn' 'Kayn'\n",
      " 'Kassadin' 'Sivir' 'MissFortune' 'Draven' 'Yasuo' 'Kayle' 'Shaco'\n",
      " 'Renekton' 'Hecarim' 'Fizz' 'KogMaw' 'Maokai' 'Lissandra' 'Jinx' 'Urgot'\n",
      " 'Fiddlesticks' 'Galio' 'Pantheon' 'Talon' 'Gangplank' 'Ezreal' 'Gnar'\n",
      " 'Teemo' 'Annie' 'Mordekaiser' 'Azir' 'Kennen' 'Riven' 'Chogath' 'Aatrox'\n",
      " 'Poppy' 'Taliyah' 'Illaoi' 'Heimerdinger' 'Alistar' 'Xin Zhao' 'Lucian'\n",
      " 'Volibear' 'Sejuani' 'Nidalee' 'Garen' 'Leona' 'Zed' 'Blitzcrank' 'Rammus'\n",
      " 'Velkoz' 'Caitlyn' 'Trundle' 'Kindred' 'Quinn' 'Ekko' 'Nami' 'Swain'\n",
      " 'Taric' 'Syndra' 'Rakan' 'Skarner' 'Braum' 'Veigar' 'Xerath' 'Corki'\n",
      " 'Nautilus' 'Ahri' 'Jayce' 'Darius' 'Tryndamere' 'Janna' 'Elise' 'Vayne'\n",
      " 'Brand' 'Graves' 'Soraka' 'Xayah' 'Karthus' 'Vladimir' 'Zilean' 'Katarina'\n",
      " 'Shyvana' 'Warwick' 'Ziggs' 'Kled' 'KhaZix' 'Olaf' 'TwistedFate' 'Nunu'\n",
      " 'Rengar' 'Bard' 'Irelia' 'Ivern' 'Wukong' 'Ashe' 'Kalista' 'Akali' 'Vi'\n",
      " 'Amumu' 'Lulu' 'Morgana' 'Nocturne' 'Diana' 'Aurelion Sol' 'Zyra' 'Viktor'\n",
      " 'Cassiopeia' 'Nasus' 'Twitch' 'DrMundo' 'Orianna' 'Evelynn' 'RekSai' 'Lux'\n",
      " 'Sion' 'Camille' 'MasterYi' 'Ryze' 'Malphite' 'Anivia' 'Shen' 'JarvanIV'\n",
      " 'Malzahar' 'Zac' 'Gragas' 'TahmKench' 'AurelionSol' 'LeeSin' 'Khazix'\n",
      " 'FiddleSticks' 'XinZhao' 'MonkeyKing']\n"
     ]
    }
   ],
   "source": [
    "champions = matchups['name'].as_matrix();"
   ]
  },
  {
   "cell_type": "code",
   "execution_count": 46,
   "metadata": {},
   "outputs": [],
   "source": [
    "for i in range(len(lol['bResult'])):\n",
    "    for j in range(len(matchup_names)): \n",
    "        clean_mu.set_value(i,matchup_names[j],mu.loc[mu['name']==lol['blue' + roles[j]][i],lol['red' + roles[j]][i]]);"
   ]
  },
  {
   "cell_type": "code",
   "execution_count": 49,
   "metadata": {},
   "outputs": [
    {
     "name": "stdout",
     "output_type": "stream",
     "text": [
      "0       -0.029412\n",
      "1        0.214286\n",
      "2        0.042857\n",
      "3        0.057692\n",
      "4       -0.050000\n",
      "5        0.042857\n",
      "6        0.050000\n",
      "7       -0.064516\n",
      "8       -0.023810\n",
      "9        0.202703\n",
      "10       0.081395\n",
      "11       0.181818\n",
      "12       0.014563\n",
      "13      -0.090361\n",
      "14       0.158537\n",
      "15       0.214286\n",
      "16      -0.057692\n",
      "17       0.500000\n",
      "18       0.500000\n",
      "19      -0.014563\n",
      "20      -0.023810\n",
      "21      -0.202703\n",
      "22      -0.042857\n",
      "23       0.000000\n",
      "24       0.029412\n",
      "25       0.214286\n",
      "26       0.042857\n",
      "27       0.000000\n",
      "28       0.023810\n",
      "29       0.083333\n",
      "           ...   \n",
      "3773    -0.166667\n",
      "3774    -0.100000\n",
      "3775     0.000000\n",
      "3776    -0.500000\n",
      "3777    -0.031250\n",
      "3778    -0.040146\n",
      "3779     0.000000\n",
      "3780    -0.040146\n",
      "3781    -0.055556\n",
      "3782    -0.031250\n",
      "3783     0.166667\n",
      "3784     0.500000\n",
      "3785    -0.031250\n",
      "3786     0.007937\n",
      "3787     0.000000\n",
      "3788    -0.040146\n",
      "3789    -0.013699\n",
      "3790     0.013699\n",
      "3791    -0.031250\n",
      "3792    -0.250000\n",
      "3793    -0.100000\n",
      "3794    -0.031250\n",
      "3795     0.040146\n",
      "3796    -0.166667\n",
      "3797     0.071429\n",
      "3798     0.031250\n",
      "3799    -0.166667\n",
      "3800    -0.031250\n",
      "3801     0.166667\n",
      "topMu         NaN\n",
      "Name: ADCMu, Length: 3803, dtype: float64\n"
     ]
    }
   ],
   "source": []
  },
  {
   "cell_type": "code",
   "execution_count": 50,
   "metadata": {},
   "outputs": [
    {
     "name": "stdout",
     "output_type": "stream",
     "text": [
      "0.215139442231\n"
     ]
    }
   ],
   "source": [
    "for i in range(len(matchup_names)):\n",
    "    pregame[matchup_names[i]] = clean_mu[matchup_names[i]];\n",
    "\n",
    "X_train3, X_test3, y_train3, y_test3 = train_test_split(pregame, winner, test_size = 0.33);\n",
    "\n",
    "LR3 = LogisticRegression();\n",
    "\n",
    "LR3.fit(X_train3,y_train3);\n",
    "\n",
    "y_predict3 = LR3.predict(X_test3)\n",
    "\n",
    "print((len(y_test3) - np.sum(y_test3==y_predict3)) / len(y_test3))"
   ]
  },
  {
   "cell_type": "code",
   "execution_count": 51,
   "metadata": {},
   "outputs": [
    {
     "name": "stdout",
     "output_type": "stream",
     "text": [
      "      gamelength  blueTopChamp  blueJungleChamp  blueMiddleChamp  \\\n",
      "0             40      0.503425         0.485884         0.495627   \n",
      "1             38      0.488987         0.529891         0.495627   \n",
      "2             40      0.417266         0.529891         0.541126   \n",
      "3             41      0.503425         0.509158         0.505353   \n",
      "4             35      0.488987         0.509158         0.505995   \n",
      "5             24      0.546729         0.529891         0.505353   \n",
      "6             39      0.503425         0.509158         0.412500   \n",
      "7             43      0.417266         0.509158         0.531034   \n",
      "8             41      0.514286         0.485884         0.496350   \n",
      "9             32      0.503425         0.466667         0.496350   \n",
      "10            52      0.488987         0.509158         0.531034   \n",
      "11            46      0.536232         0.509158         0.546729   \n",
      "12            38      0.503425         0.587302         0.505995   \n",
      "13            31      0.481081         0.487805         0.412500   \n",
      "14            33      0.530990         0.509158         0.505353   \n",
      "15            38      0.521870         0.587302         0.639810   \n",
      "16            40      0.488987         0.509158         0.531034   \n",
      "17            39      0.505995         0.509158         0.412500   \n",
      "18            40      0.488987         0.487805         0.505353   \n",
      "19            39      0.514286         0.529891         0.495627   \n",
      "20            49      0.481081         0.485884         0.489217   \n",
      "21            35      0.530990         0.587302         0.546729   \n",
      "22            36      0.485884         0.587302         0.531034   \n",
      "23            43      0.505995         0.485884         0.412500   \n",
      "24            32      0.488987         0.509158         0.546729   \n",
      "25            31      0.521870         0.587302         0.505353   \n",
      "26            36      0.505995         0.487805         0.456471   \n",
      "27            41      0.530990         0.587302         0.456471   \n",
      "28            31      0.536232         0.485884         0.505995   \n",
      "29            30      0.514286         0.587302         0.495627   \n",
      "...          ...           ...              ...              ...   \n",
      "3772          51      0.518777         0.487805         0.529605   \n",
      "3773          36      0.506550         0.487805         0.541126   \n",
      "3774          32      0.518777         0.516055         0.481081   \n",
      "3775          28      0.504105         0.471990         0.496350   \n",
      "3776          28      0.505102         0.471990         0.521212   \n",
      "3777          40      0.541126         0.487805         0.521212   \n",
      "3778          31      0.518777         0.487805         0.505353   \n",
      "3779          31      0.417266         0.487805         0.529605   \n",
      "3780          39      0.541126         0.487805         0.529605   \n",
      "3781          41      0.496749         0.471990         0.529605   \n",
      "3782          35      0.505102         0.540541         0.529605   \n",
      "3783          38      0.504105         0.516055         0.495627   \n",
      "3784          30      0.360000         0.497630         0.495627   \n",
      "3785          54      0.504105         0.471990         0.495627   \n",
      "3786          31      0.541126         0.540541         0.521212   \n",
      "3787          51      0.521870         0.540541         0.419708   \n",
      "3788          31      0.496749         0.471990         0.505353   \n",
      "3789          38      0.360000         0.471990         0.496350   \n",
      "3790          38      0.541126         0.487805         0.521212   \n",
      "3791          32      0.504105         0.540541         0.496350   \n",
      "3792          28      0.504105         0.471990         0.505353   \n",
      "3793          30      0.521870         0.471990         0.496350   \n",
      "3794          43      0.518777         0.540541         0.470954   \n",
      "3795          38      0.360000         0.497630         0.529605   \n",
      "3796          39      0.504105         0.487805         0.419708   \n",
      "3797          37      0.360000         0.516055         0.529605   \n",
      "3798          39      0.360000         0.487805         0.481481   \n",
      "3799          31      0.495082         0.487805         0.529605   \n",
      "3800          37      0.521870         0.487805         0.495627   \n",
      "3801          35      0.360000         0.487805         0.496350   \n",
      "\n",
      "      blueADCChamp  blueSupportChamp  redTopChamp  redJungleChamp  \\\n",
      "0         0.497175          0.521739     0.488987        0.500960   \n",
      "1         0.495050          0.472000     0.503425        0.509158   \n",
      "2         0.534586          0.521008     0.514286        0.487805   \n",
      "3         0.534586          0.526498     0.488987        0.509615   \n",
      "4         0.425339          0.521739     0.514286        0.485884   \n",
      "5         0.534586          0.521008     0.488987        0.509158   \n",
      "6         0.489217          0.521739     0.417266        0.487805   \n",
      "7         0.495050          0.521008     0.521870        0.529891   \n",
      "8         0.462121          0.521739     0.546729        0.587302   \n",
      "9         0.534586          0.471591     0.488987        0.529891   \n",
      "10        0.489217          0.533133     0.481081        0.487805   \n",
      "11        0.471990          0.533133     0.488987        0.485884   \n",
      "12        0.551959          0.521008     0.488987        0.509158   \n",
      "13        0.489217          0.521739     0.514286        0.509158   \n",
      "14        0.551959          0.521008     0.481081        0.529891   \n",
      "15        0.495050          0.533133     0.488987        0.485884   \n",
      "16        0.462121          0.471591     0.530990        0.487805   \n",
      "17        0.425339          0.533133     0.488987        0.509615   \n",
      "18        0.462121          0.471591     0.480519        0.509158   \n",
      "19        0.534586          0.521739     0.505995        0.509158   \n",
      "20        0.551959          0.533133     0.521870        0.487805   \n",
      "21        0.471990          0.521008     0.503425        0.509158   \n",
      "22        0.489217          0.526498     0.530990        0.487805   \n",
      "23        0.492754          0.471591     0.514286        0.509158   \n",
      "24        0.534586          0.521739     0.503425        0.587302   \n",
      "25        0.471990          0.533133     0.530990        0.509158   \n",
      "26        0.534586          0.493361     0.503425        0.587302   \n",
      "27        0.492754          0.521008     0.521870        0.509158   \n",
      "28        0.471990          0.533133     0.488987        0.487805   \n",
      "29        0.497175          0.521739     0.530990        0.487805   \n",
      "...            ...               ...          ...             ...   \n",
      "3772      0.470954          0.455026     0.521870        0.500960   \n",
      "3773      0.462121          0.455026     0.496749        0.471990   \n",
      "3774      0.512881          0.494350     0.504105        0.471990   \n",
      "3775      0.558140          0.540059     0.468750        0.487805   \n",
      "3776      0.428571          0.501355     0.521870        0.487805   \n",
      "3777      0.495050          0.459613     0.360000        0.516055   \n",
      "3778      0.512881          0.585227     0.504105        0.500960   \n",
      "3779      0.495050          0.481081     0.496749        0.471990   \n",
      "3780      0.512881          0.459613     0.521870        0.471990   \n",
      "3781      0.512881          0.494350     0.360000        0.516055   \n",
      "3782      0.495050          0.459613     0.360000        0.471990   \n",
      "3783      0.512881          0.540059     0.468750        0.487805   \n",
      "3784      0.558140          0.481081     0.504105        0.516055   \n",
      "3785      0.495050          0.459613     0.360000        0.487805   \n",
      "3786      0.495050          0.459613     0.360000        0.471990   \n",
      "3787      0.492007          0.494350     0.518777        0.509615   \n",
      "3788      0.512881          0.481081     0.360000        0.516055   \n",
      "3789      0.456471          0.540059     0.504105        0.500960   \n",
      "3790      0.512881          0.481081     0.504105        0.471990   \n",
      "3791      0.495050          0.481081     0.496749        0.471990   \n",
      "3792      0.492007          0.540059     0.541126        0.497630   \n",
      "3793      0.558140          0.481081     0.360000        0.540541   \n",
      "3794      0.495050          0.585227     0.521870        0.497630   \n",
      "3795      0.492007          0.459613     0.521870        0.487805   \n",
      "3796      0.462121          0.471591     0.360000        0.471990   \n",
      "3797      0.492007          0.459613     0.468750        0.487805   \n",
      "3798      0.512881          0.494350     0.521870        0.540541   \n",
      "3799      0.462121          0.455026     0.360000        0.540541   \n",
      "3800      0.495050          0.494350     0.360000        0.497630   \n",
      "3801      0.551959          0.526498     0.521870        0.497630   \n",
      "\n",
      "      redMiddleChamp  redADCChamp  redSupportChamp     topMu     supMu  \\\n",
      "0           0.541126     0.534586         0.526498 -0.034483 -0.047368   \n",
      "1           0.531034     0.489217         0.521008  0.034483 -0.045455   \n",
      "2           0.531034     0.489217         0.521739  0.166667  0.166667   \n",
      "3           0.481081     0.462121         0.521739 -0.034483  0.047368   \n",
      "4           0.481081     0.489217         0.521008  0.125000 -0.166667   \n",
      "5           0.481081     0.489217         0.526498 -0.166667  0.023810   \n",
      "6           0.505353     0.425339         0.471591  0.055556  0.134146   \n",
      "7           0.505353     0.534586         0.428571  0.000000  0.000000   \n",
      "8           0.639810     0.489217         0.533133 -0.500000 -0.034884   \n",
      "9           0.505353     0.471990         0.533133 -0.034483  0.055556   \n",
      "10          0.412500     0.456471         0.521739 -0.100000  0.034884   \n",
      "11          0.495627     0.489217         0.526498  0.125000  0.093220   \n",
      "12          0.495627     0.534586         0.472000 -0.034483  0.045455   \n",
      "13          0.481481     0.551959         0.428571 -0.166667 -0.166667   \n",
      "14          0.533133     0.425339         0.521739  0.180000  0.166667   \n",
      "15          0.505353     0.489217         0.521739 -0.022727  0.034884   \n",
      "16          0.639810     0.534586         0.521739 -0.057692 -0.134146   \n",
      "17          0.495627     0.495050         0.521739 -0.131579  0.034884   \n",
      "18          0.496350     0.471990         0.521739  0.000000 -0.134146   \n",
      "19          0.489217     0.551959         0.526498  0.100000 -0.047368   \n",
      "20          0.495627     0.471990         0.521008 -0.055556  0.055556   \n",
      "21          0.489217     0.534586         0.472000 -0.033333  0.045455   \n",
      "22          0.412500     0.534586         0.533133 -0.333333 -0.093220   \n",
      "23          0.481481     0.534586         0.533133 -0.100000  0.055556   \n",
      "24          0.546314     0.497175         0.533133  0.034483 -0.034884   \n",
      "25          0.412500     0.470954         0.521739  0.014286  0.034884   \n",
      "26          0.531034     0.489217         0.521739  0.250000 -0.027473   \n",
      "27          0.495627     0.534586         0.533133 -0.014286 -0.055556   \n",
      "28          0.481081     0.551959         0.521008  0.125000  0.055556   \n",
      "29          0.492958     0.471990         0.533133  0.166667 -0.034884   \n",
      "...              ...          ...              ...       ...       ...   \n",
      "3772        0.419708     0.512881         0.540059 -0.140000  0.026316   \n",
      "3773        0.529605     0.558140         0.540059 -0.038462  0.026316   \n",
      "3774        0.505353     0.558140         0.471591 -0.033333  0.033333   \n",
      "3775        0.487179     0.517241         0.494350 -0.250000  0.020000   \n",
      "3776        0.496350     0.558140         0.540059 -0.153846 -0.131579   \n",
      "3777        0.522814     0.512881         0.481081  0.500000 -0.094059   \n",
      "3778        0.522814     0.492007         0.540059 -0.033333  0.055556   \n",
      "3779        0.505353     0.492007         0.459613 -0.055556  0.094059   \n",
      "3780        0.496350     0.492007         0.471591  0.023810  0.076271   \n",
      "3781        0.639810     0.428571         0.585227  0.000000 -0.074468   \n",
      "3782        0.541126     0.512881         0.391304 -0.500000 -0.055556   \n",
      "3783        0.541126     0.462121         0.360000 -0.250000 -0.500000   \n",
      "3784        0.496350     0.505102         0.459613 -0.300000  0.094059   \n",
      "3785        0.529605     0.512881         0.494350  0.300000 -0.029412   \n",
      "3786        0.529605     0.517241         0.481081  0.500000 -0.094059   \n",
      "3787        0.496350     0.495050         0.455026  0.140000 -0.111111   \n",
      "3788        0.505995     0.492007         0.471591  0.000000 -0.033333   \n",
      "3789        0.470954     0.512881         0.494350 -0.300000  0.020000   \n",
      "3790        0.522814     0.456471         0.459613  0.071429  0.094059   \n",
      "3791        0.505353     0.512881         0.459613 -0.048387  0.094059   \n",
      "3792        0.481481     0.558140         0.455026 -0.071429 -0.026316   \n",
      "3793        0.470954     0.456471         0.459613  0.214286  0.094059   \n",
      "3794        0.442283     0.512881         0.590909 -0.140000  0.000000   \n",
      "3795        0.521212     0.512881         0.526498 -0.214286 -0.087302   \n",
      "3796        0.495627     0.495050         0.526498  0.300000 -0.155172   \n",
      "3797        0.541126     0.462121         0.540059  0.500000 -0.112903   \n",
      "3798        0.419708     0.495050         0.540059 -0.214286 -0.020000   \n",
      "3799        0.495627     0.512881         0.540059  0.500000  0.026316   \n",
      "3800        0.496350     0.512881         0.512397  0.214286 -0.063636   \n",
      "3801        0.505353     0.558140         0.540059 -0.214286 -0.192308   \n",
      "\n",
      "         midMu     ADCMu    jungMu  \n",
      "0    -0.100000 -0.029412  0.046939  \n",
      "1    -0.166667  0.214286 -0.200000  \n",
      "2     0.200000  0.042857  0.032258  \n",
      "3    -0.125000  0.057692  0.166667  \n",
      "4     0.145161 -0.050000 -0.032258  \n",
      "5    -0.125000  0.042857 -0.200000  \n",
      "6    -0.125000  0.050000  0.075000  \n",
      "7    -0.073529 -0.064516  0.200000  \n",
      "8    -0.166667 -0.023810 -0.021739  \n",
      "9    -0.192308  0.202703  0.500000  \n",
      "10   -0.100000  0.081395  0.075000  \n",
      "11    0.142857  0.181818 -0.032258  \n",
      "12    0.192308  0.014563  0.264706  \n",
      "13   -0.071429 -0.090361 -0.075000  \n",
      "14   -0.071429  0.158537  0.200000  \n",
      "15    0.111111  0.214286  0.021739  \n",
      "16   -0.033333 -0.057692  0.075000  \n",
      "17    0.000000  0.500000  0.166667  \n",
      "18    0.192308  0.500000 -0.075000  \n",
      "19    0.033333 -0.014563 -0.200000  \n",
      "20   -0.033333 -0.023810 -0.021277  \n",
      "21    0.500000 -0.202703  0.264706  \n",
      "22   -0.100000 -0.042857 -0.045455  \n",
      "23   -0.071429  0.000000  0.032258  \n",
      "24    0.000000  0.029412 -0.264706  \n",
      "25    0.125000  0.214286  0.264706  \n",
      "26   -0.227273  0.042857  0.045455  \n",
      "27   -0.083333  0.000000  0.264706  \n",
      "28    0.145161  0.023810 -0.021277  \n",
      "29    0.166667  0.083333 -0.045455  \n",
      "...        ...       ...       ...  \n",
      "3772  0.055556 -0.023077  0.027273  \n",
      "3773  0.055556 -0.166667  0.077465  \n",
      "3774  0.125000 -0.100000 -0.016129  \n",
      "3775  0.088235  0.000000 -0.077465  \n",
      "3776 -0.233333 -0.500000 -0.077465  \n",
      "3777  0.038462 -0.031250 -0.017544  \n",
      "3778  0.000000 -0.040146  0.027273  \n",
      "3779  0.038462  0.000000  0.077465  \n",
      "3780  0.128571 -0.040146  0.077465  \n",
      "3781 -0.136364 -0.055556  0.016129  \n",
      "3782 -0.055556 -0.031250  0.062500  \n",
      "3783 -0.100000  0.166667  0.017544  \n",
      "3784  0.177419  0.500000 -0.166667  \n",
      "3785  0.076923 -0.031250 -0.077465  \n",
      "3786 -0.100000  0.007937  0.062500  \n",
      "3787  0.100000  0.000000 -0.500000  \n",
      "3788  0.016129 -0.040146  0.016129  \n",
      "3789  0.000000 -0.013699 -0.014493  \n",
      "3790  0.038462  0.013699  0.077465  \n",
      "3791 -0.192308 -0.031250  0.062500  \n",
      "3792 -0.071429 -0.250000 -0.100000  \n",
      "3793  0.000000 -0.100000 -0.062500  \n",
      "3794 -0.500000 -0.031250 -0.166667  \n",
      "3795  0.100000  0.040146  0.055556  \n",
      "3796  0.100000 -0.166667  0.077465  \n",
      "3797 -0.055556  0.071429  0.017544  \n",
      "3798  0.250000  0.031250  0.000000  \n",
      "3799 -0.076923 -0.166667  0.000000  \n",
      "3800  0.177419 -0.031250 -0.055556  \n",
      "3801 -0.192308  0.166667 -0.055556  \n",
      "\n",
      "[3802 rows x 16 columns]\n"
     ]
    }
   ],
   "source": [
    "print(pregame)"
   ]
  },
  {
   "cell_type": "code",
   "execution_count": 52,
   "metadata": {
    "collapsed": true
   },
   "outputs": [],
   "source": [
    "clean_mu['bResult'] = lol['bResult'];"
   ]
  },
  {
   "cell_type": "code",
   "execution_count": 54,
   "metadata": {},
   "outputs": [],
   "source": [
    "clean_mu.to_csv('clean and matchups.csv');"
   ]
  },
  {
   "cell_type": "code",
   "execution_count": null,
   "metadata": {
    "collapsed": true
   },
   "outputs": [],
   "source": []
  }
 ],
 "metadata": {
  "kernelspec": {
   "display_name": "Python 3",
   "language": "python",
   "name": "python3"
  },
  "language_info": {
   "codemirror_mode": {
    "name": "ipython",
    "version": 3
   },
   "file_extension": ".py",
   "mimetype": "text/x-python",
   "name": "python",
   "nbconvert_exporter": "python",
   "pygments_lexer": "ipython3",
   "version": "3.6.1"
  }
 },
 "nbformat": 4,
 "nbformat_minor": 2
}
